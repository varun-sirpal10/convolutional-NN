{
 "cells": [
  {
   "cell_type": "markdown",
   "metadata": {},
   "source": [
    "## Pooling Implementation"
   ]
  },
  {
   "cell_type": "code",
   "execution_count": 1,
   "metadata": {},
   "outputs": [],
   "source": [
    "import numpy as np"
   ]
  },
  {
   "cell_type": "code",
   "execution_count": 2,
   "metadata": {},
   "outputs": [],
   "source": [
    "X = np.array([[1,0,2,3],[4,6,6,8],[3,1,1,0],[1,2,2,4]])\n",
    "\n",
    "def pooling(X,mode=\"max\"):\n",
    "    stride = 2\n",
    "    f = 2\n",
    "    H,W = X.shape\n",
    "    \n",
    "    HO = int((H-f)/stride) + 1\n",
    "    WO = int((W-f)/stride) + 1\n",
    "    \n",
    "    output = np.zeros((HO,WO))\n",
    "    \n",
    "    for r in range(HO):\n",
    "        for c in range(WO):\n",
    "            r_start = r*stride\n",
    "            r_end = r_start + f\n",
    "            c_start = c*stride\n",
    "            c_end = c_start + f\n",
    "            \n",
    "            X_slice = X[r_start:r_end,c_start:c_end]\n",
    "            \n",
    "            if mode==\"max\":\n",
    "                output[r][c] = np.max(X_slice) #Max Pooling\n",
    "            else:\n",
    "                output[r][c] = np.mean(X_slice) #Average Pooling\n",
    "    \n",
    "    return output"
   ]
  },
  {
   "cell_type": "code",
   "execution_count": 3,
   "metadata": {},
   "outputs": [
    {
     "name": "stdout",
     "output_type": "stream",
     "text": [
      "[[6. 8.]\n",
      " [3. 4.]]\n"
     ]
    }
   ],
   "source": [
    "pooling_output = pooling(X)\n",
    "print(pooling_output)"
   ]
  },
  {
   "cell_type": "code",
   "execution_count": null,
   "metadata": {},
   "outputs": [],
   "source": []
  }
 ],
 "metadata": {
  "kernelspec": {
   "display_name": "Python 3",
   "language": "python",
   "name": "python3"
  },
  "language_info": {
   "codemirror_mode": {
    "name": "ipython",
    "version": 3
   },
   "file_extension": ".py",
   "mimetype": "text/x-python",
   "name": "python",
   "nbconvert_exporter": "python",
   "pygments_lexer": "ipython3",
   "version": "3.7.3"
  }
 },
 "nbformat": 4,
 "nbformat_minor": 2
}
