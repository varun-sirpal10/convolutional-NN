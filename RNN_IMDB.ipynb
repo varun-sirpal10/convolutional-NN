{
  "nbformat": 4,
  "nbformat_minor": 0,
  "metadata": {
    "colab": {
      "name": "RNN_IMDB.ipynb",
      "provenance": [],
      "collapsed_sections": [],
      "authorship_tag": "ABX9TyPzR1qwqNfEZyZW4Ert6g/1",
      "include_colab_link": true
    },
    "kernelspec": {
      "name": "python3",
      "display_name": "Python 3"
    }
  },
  "cells": [
    {
      "cell_type": "markdown",
      "metadata": {
        "id": "view-in-github",
        "colab_type": "text"
      },
      "source": [
        "<a href=\"https://colab.research.google.com/github/varun-sirpal10/convolutional-NN/blob/master/RNN_IMDB.ipynb\" target=\"_parent\"><img src=\"https://colab.research.google.com/assets/colab-badge.svg\" alt=\"Open In Colab\"/></a>"
      ]
    },
    {
      "cell_type": "code",
      "metadata": {
        "id": "O_l6w_aNKqMA",
        "colab_type": "code",
        "colab": {}
      },
      "source": [
        "from keras.datasets import imdb\n",
        "\n",
        "((XT,YT),(Xt,Yt)) = imdb.load_data(num_words=10000)"
      ],
      "execution_count": 0,
      "outputs": []
    },
    {
      "cell_type": "code",
      "metadata": {
        "id": "LEtwMnLJLH5f",
        "colab_type": "code",
        "outputId": "54575f27-b078-4826-cbb0-10e10e7f496b",
        "colab": {
          "base_uri": "https://localhost:8080/",
          "height": 50
        }
      },
      "source": [
        "print(len(XT))\n",
        "print(len(Xt))"
      ],
      "execution_count": 19,
      "outputs": [
        {
          "output_type": "stream",
          "text": [
            "25000\n",
            "25000\n"
          ],
          "name": "stdout"
        }
      ]
    },
    {
      "cell_type": "code",
      "metadata": {
        "id": "zU7Pjl1sLgrq",
        "colab_type": "code",
        "outputId": "b34a0ba8-e293-4b19-8e06-51ccfbf9faa2",
        "colab": {
          "base_uri": "https://localhost:8080/",
          "height": 54
        }
      },
      "source": [
        "print(XT[0])"
      ],
      "execution_count": 20,
      "outputs": [
        {
          "output_type": "stream",
          "text": [
            "[1, 14, 22, 16, 43, 530, 973, 1622, 1385, 65, 458, 4468, 66, 3941, 4, 173, 36, 256, 5, 25, 100, 43, 838, 112, 50, 670, 2, 9, 35, 480, 284, 5, 150, 4, 172, 112, 167, 2, 336, 385, 39, 4, 172, 4536, 1111, 17, 546, 38, 13, 447, 4, 192, 50, 16, 6, 147, 2025, 19, 14, 22, 4, 1920, 4613, 469, 4, 22, 71, 87, 12, 16, 43, 530, 38, 76, 15, 13, 1247, 4, 22, 17, 515, 17, 12, 16, 626, 18, 2, 5, 62, 386, 12, 8, 316, 8, 106, 5, 4, 2223, 5244, 16, 480, 66, 3785, 33, 4, 130, 12, 16, 38, 619, 5, 25, 124, 51, 36, 135, 48, 25, 1415, 33, 6, 22, 12, 215, 28, 77, 52, 5, 14, 407, 16, 82, 2, 8, 4, 107, 117, 5952, 15, 256, 4, 2, 7, 3766, 5, 723, 36, 71, 43, 530, 476, 26, 400, 317, 46, 7, 4, 2, 1029, 13, 104, 88, 4, 381, 15, 297, 98, 32, 2071, 56, 26, 141, 6, 194, 7486, 18, 4, 226, 22, 21, 134, 476, 26, 480, 5, 144, 30, 5535, 18, 51, 36, 28, 224, 92, 25, 104, 4, 226, 65, 16, 38, 1334, 88, 12, 16, 283, 5, 16, 4472, 113, 103, 32, 15, 16, 5345, 19, 178, 32]\n"
          ],
          "name": "stdout"
        }
      ]
    },
    {
      "cell_type": "code",
      "metadata": {
        "id": "7NAq53bcLwWC",
        "colab_type": "code",
        "colab": {}
      },
      "source": [
        "word_idx = imdb.get_word_index()"
      ],
      "execution_count": 0,
      "outputs": []
    },
    {
      "cell_type": "code",
      "metadata": {
        "id": "hD8IOCoeL7O0",
        "colab_type": "code",
        "colab": {}
      },
      "source": [
        "#print(word_idx.items())"
      ],
      "execution_count": 0,
      "outputs": []
    },
    {
      "cell_type": "code",
      "metadata": {
        "id": "L-c2I1FsMAte",
        "colab_type": "code",
        "colab": {}
      },
      "source": [
        "## Create a 2D Tensor to be processed by the embedding layer\n",
        "\n",
        "from keras.preprocessing import sequence\n",
        "\n",
        "X_train = sequence.pad_sequences(XT,maxlen=500)\n",
        "X_test = sequence.pad_sequences(Xt,maxlen=500)"
      ],
      "execution_count": 0,
      "outputs": []
    },
    {
      "cell_type": "code",
      "metadata": {
        "id": "z_QXxWf-PUJB",
        "colab_type": "code",
        "outputId": "b60ce508-1528-4a1c-f34b-5dfd7d281018",
        "colab": {
          "base_uri": "https://localhost:8080/",
          "height": 34
        }
      },
      "source": [
        "print(X_train.shape,X_train.shape)"
      ],
      "execution_count": 24,
      "outputs": [
        {
          "output_type": "stream",
          "text": [
            "(25000, 500) (25000, 500)\n"
          ],
          "name": "stdout"
        }
      ]
    },
    {
      "cell_type": "code",
      "metadata": {
        "id": "8KOJwpJZPYTL",
        "colab_type": "code",
        "outputId": "63d94eb7-82f0-44ad-cde1-d97b54bcb34c",
        "colab": {
          "base_uri": "https://localhost:8080/",
          "height": 252
        }
      },
      "source": [
        "## Create a model in Keras\n",
        "\n",
        "from keras.layers import Embedding,SimpleRNN,Dense\n",
        "from keras.models import Sequential\n",
        "\n",
        "model = Sequential()\n",
        "model.add(Embedding(10000,64))\n",
        "model.add(SimpleRNN(32))\n",
        "model.add(Dense(1,activation=\"sigmoid\"))\n",
        "model.summary()"
      ],
      "execution_count": 25,
      "outputs": [
        {
          "output_type": "stream",
          "text": [
            "Model: \"sequential_6\"\n",
            "_________________________________________________________________\n",
            "Layer (type)                 Output Shape              Param #   \n",
            "=================================================================\n",
            "embedding_6 (Embedding)      (None, None, 64)          640000    \n",
            "_________________________________________________________________\n",
            "simple_rnn_4 (SimpleRNN)     (None, 32)                3104      \n",
            "_________________________________________________________________\n",
            "dense_3 (Dense)              (None, 1)                 33        \n",
            "=================================================================\n",
            "Total params: 643,137\n",
            "Trainable params: 643,137\n",
            "Non-trainable params: 0\n",
            "_________________________________________________________________\n"
          ],
          "name": "stdout"
        }
      ]
    },
    {
      "cell_type": "code",
      "metadata": {
        "id": "0arc-VF-QIpw",
        "colab_type": "code",
        "colab": {}
      },
      "source": [
        "model.compile(optimizer=\"rmsprop\",loss=\"binary_crossentropy\",metrics=['accuracy'])"
      ],
      "execution_count": 0,
      "outputs": []
    },
    {
      "cell_type": "code",
      "metadata": {
        "id": "qDTLOdQjSbQj",
        "colab_type": "code",
        "outputId": "c165eada-714b-42aa-bab9-8b5401ed1c23",
        "colab": {
          "base_uri": "https://localhost:8080/",
          "height": 134
        }
      },
      "source": [
        "from keras.callbacks import ModelCheckpoint #save best model, fight overfitting\n",
        "from keras.callbacks import EarlyStopping #save time\n",
        "\n",
        "\n",
        "checkpoint = ModelCheckpoint(\"best_model.h5\",monitor=\"val_loss\",save_best_only=True,save_weights_only=False,mode=\"auto\",period=1,verbose=0)\n",
        "earlystop = EarlyStopping(monitor=\"val_acc\",patience=1)\n",
        "\n",
        "\n",
        "hist = model.fit(X_train,YT,validation_split=0.2,epochs=10,batch_size=128,callbacks=[checkpoint,earlystop])"
      ],
      "execution_count": 46,
      "outputs": [
        {
          "output_type": "stream",
          "text": [
            "Train on 20000 samples, validate on 5000 samples\n",
            "Epoch 1/10\n",
            "20000/20000 [==============================] - 24s 1ms/step - loss: 0.0064 - acc: 0.9979 - val_loss: 1.2143 - val_acc: 0.7474\n",
            "Epoch 2/10\n",
            "20000/20000 [==============================] - 23s 1ms/step - loss: 0.0017 - acc: 0.9994 - val_loss: 1.1516 - val_acc: 0.7702\n",
            "Epoch 3/10\n",
            "20000/20000 [==============================] - 24s 1ms/step - loss: 0.0053 - acc: 0.9983 - val_loss: 1.2273 - val_acc: 0.7530\n"
          ],
          "name": "stdout"
        }
      ]
    },
    {
      "cell_type": "code",
      "metadata": {
        "id": "ipNfK_fASqvg",
        "colab_type": "code",
        "outputId": "0fd37774-da62-4e4d-8457-057761ba9c6d",
        "colab": {
          "base_uri": "https://localhost:8080/",
          "height": 545
        }
      },
      "source": [
        "import matplotlib.pyplot as plt\n",
        "\n",
        "epochs = range(1,len(hist.history['loss'])+1)\n",
        "plt.title(\"Accuracy vs. Epochs\")\n",
        "plt.plot(epochs,hist.history['acc'],label=\"Training Acc\")\n",
        "plt.plot(epochs,hist.history['val_acc'],label=\"Validation Acc\")\n",
        "plt.legend()\n",
        "plt.show()\n",
        "\n",
        "plt.title(\"Loss vs. Epochs\")\n",
        "plt.plot(epochs,hist.history['loss'],label=\"Training Loss\")\n",
        "plt.plot(epochs,hist.history['val_loss'],label=\"Validation Loss\")\n",
        "plt.legend()\n",
        "plt.show()"
      ],
      "execution_count": 47,
      "outputs": [
        {
          "output_type": "display_data",
          "data": {
            "image/png": "[encoded data removed]",
            "text/plain": [
              "<Figure size 432x288 with 1 Axes>"
            ]
          },
          "metadata": {
            "tags": []
          }
        },
        {
          "output_type": "display_data",
          "data": {
            "image/png": "[encoded data removed]",
            "text/plain": [
              "<Figure size 432x288 with 1 Axes>"
            ]
          },
          "metadata": {
            "tags": []
          }
        }
      ]
    },
    {
      "cell_type": "code",
      "metadata": {
        "id": "zt9_TGyBXM0J",
        "colab_type": "code",
        "colab": {}
      },
      "source": [
        "#model.save(\"best_model.h5\")"
      ],
      "execution_count": 0,
      "outputs": []
    },
    {
      "cell_type": "code",
      "metadata": {
        "id": "uFBkAHs6ZMa8",
        "colab_type": "code",
        "colab": {
          "base_uri": "https://localhost:8080/",
          "height": 34
        },
        "outputId": "9ee4733f-56d3-4781-8340-61069873680f"
      },
      "source": [
        "!ls"
      ],
      "execution_count": 40,
      "outputs": [
        {
          "output_type": "stream",
          "text": [
            "best_model.h5  my_model.h5  sample_data\n"
          ],
          "name": "stdout"
        }
      ]
    },
    {
      "cell_type": "code",
      "metadata": {
        "id": "8_67veFSZNY4",
        "colab_type": "code",
        "colab": {}
      },
      "source": [
        "model.load_weights(\"best_model.h5\")"
      ],
      "execution_count": 0,
      "outputs": []
    },
    {
      "cell_type": "code",
      "metadata": {
        "id": "r4Yasg-2ZdEG",
        "colab_type": "code",
        "colab": {
          "base_uri": "https://localhost:8080/",
          "height": 50
        },
        "outputId": "47f2d9e2-78f8-4cd9-db63-512861ce7ba2"
      },
      "source": [
        "model.evaluate(X_test,Yt)"
      ],
      "execution_count": 49,
      "outputs": [
        {
          "output_type": "stream",
          "text": [
            "25000/25000 [==============================] - 22s 869us/step\n"
          ],
          "name": "stdout"
        },
        {
          "output_type": "execute_result",
          "data": {
            "text/plain": [
              "[1.0948166064357758, 0.77884]"
            ]
          },
          "metadata": {
            "tags": []
          },
          "execution_count": 49
        }
      ]
    },
    {
      "cell_type": "code",
      "metadata": {
        "id": "duXh-ISwZkWe",
        "colab_type": "code",
        "colab": {
          "base_uri": "https://localhost:8080/",
          "height": 50
        },
        "outputId": "ce646877-d3d2-46a0-c285-3fa6c06dee0c"
      },
      "source": [
        "model.evaluate(X_train,YT)"
      ],
      "execution_count": 43,
      "outputs": [
        {
          "output_type": "stream",
          "text": [
            "25000/25000 [==============================] - 19s 748us/step\n"
          ],
          "name": "stdout"
        },
        {
          "output_type": "execute_result",
          "data": {
            "text/plain": [
              "[0.46174856139585374, 0.88504]"
            ]
          },
          "metadata": {
            "tags": []
          },
          "execution_count": 43
        }
      ]
    },
    {
      "cell_type": "code",
      "metadata": {
        "id": "pfUSGE6gZvnl",
        "colab_type": "code",
        "colab": {}
      },
      "source": [
        ""
      ],
      "execution_count": 0,
      "outputs": []
    }
  ]
}